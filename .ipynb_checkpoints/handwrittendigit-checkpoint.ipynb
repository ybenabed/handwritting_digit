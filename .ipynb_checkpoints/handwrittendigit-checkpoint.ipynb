{
 "cells": [
  {
   "cell_type": "markdown",
   "metadata": {},
   "source": [
    "## 1).Imports"
   ]
  },
  {
   "cell_type": "code",
   "execution_count": 1,
   "metadata": {},
   "outputs": [],
   "source": [
    "import gzip\n",
    "import numpy as np \n",
    "import matplotlib.pyplot as plt"
   ]
  },
  {
   "cell_type": "markdown",
   "metadata": {},
   "source": [
    "## 2).Read dataset"
   ]
  },
  {
   "cell_type": "code",
   "execution_count": 2,
   "metadata": {},
   "outputs": [
    {
     "name": "stdout",
     "output_type": "stream",
     "text": [
      "Number: [3]\n"
     ]
    },
    {
     "data": {
      "image/png": "[encoded data removed]",
      "text/plain": [
       "<Figure size 432x288 with 1 Axes>"
      ]
     },
     "metadata": {
      "needs_background": "light"
     },
     "output_type": "display_data"
    }
   ],
   "source": [
    "def read_mnist_data(path=\"train-images-idx3-ubyte.gz\", num_images=60000):\n",
    "    dataset_file = gzip.open(path,\"r\")\n",
    "    first_pixel_at = 16\n",
    "    image_size = 28\n",
    "    dataset_file.read(first_pixel_at)\n",
    "    buf = dataset_file.read(image_size * image_size * num_images)\n",
    "    data = np.frombuffer(buf, dtype=np.uint8).astype(np.float64)\n",
    "    data = data.reshape(num_images, image_size, image_size, 1)\n",
    "    images = np.asarray(data).squeeze()\n",
    "    dataset_file.close()\n",
    "    return images\n",
    "\n",
    "def read_mnist_label(path=\"train-labels-idx1-ubyte.gz\", num_labels=60000):\n",
    "    dataset_file = gzip.open(path,\"r\")\n",
    "    first_label_at = 8\n",
    "    dataset_file.read(first_label_at)\n",
    "    buf = dataset_file.read(num_labels)\n",
    "    data = np.frombuffer(buf, dtype=np.uint8).astype(np.int64)\n",
    "    data = data.reshape(num_labels, 1)\n",
    "    return data\n",
    "\n",
    "def show_image(img):\n",
    "    plt.imshow(img)\n",
    "    plt.show()\n",
    "\n",
    "index = 5467\n",
    "labels = read_mnist_label()\n",
    "print(\"Number:\", labels[index])\n",
    "images = read_mnist_data()\n",
    "show_image(images[index])"
   ]
  },
  {
   "cell_type": "code",
   "execution_count": 3,
   "metadata": {},
   "outputs": [],
   "source": [
    "def flatten_images(images):\n",
    "    images = images.reshape(images.shape[0], images.shape[1]*images.shape[2])\n",
    "    return images.T / 255"
   ]
  },
  {
   "cell_type": "markdown",
   "metadata": {},
   "source": [
    "## Labels encoding with OneHot "
   ]
  },
  {
   "cell_type": "code",
   "execution_count": 4,
   "metadata": {},
   "outputs": [],
   "source": [
    "def onehot_encoding(Y):\n",
    "    size = (Y.max()+1, Y.size)\n",
    "    onehot = np.zeros(size)\n",
    "    onehot[Y, np.arange(Y.size)] = 1\n",
    "    return onehot\n",
    "\n",
    "onehot = onehot_encoding(labels.reshape(labels.shape[0]))"
   ]
  },
  {
   "cell_type": "markdown",
   "metadata": {},
   "source": [
    "### Load Dataset"
   ]
  },
  {
   "cell_type": "code",
   "execution_count": 5,
   "metadata": {},
   "outputs": [],
   "source": [
    "def load_dataset():\n",
    "    x_train = flatten_images(read_mnist_data())\n",
    "    y_train = read_mnist_label()\n",
    "    y_train = onehot_encoding(y_train.reshape(y_train.shape[0]))\n",
    "    x_test = flatten_images(read_mnist_data(path=\"t10k-images-idx3-ubyte.gz\", num_images=10000))\n",
    "    y_test = read_mnist_label(path=\"t10k-labels-idx1-ubyte.gz\", num_labels=10000)\n",
    "    y_test = onehot_encoding(y_test.reshape(y_test.shape[0]))\n",
    "    \n",
    "    return x_train, y_train, x_test, y_test\n",
    "\n",
    "x_train, y_train, x_test, y_test = load_dataset()"
   ]
  },
  {
   "cell_type": "markdown",
   "metadata": {},
   "source": [
    "## 3).Initialize parameters"
   ]
  },
  {
   "cell_type": "code",
   "execution_count": 19,
   "metadata": {},
   "outputs": [],
   "source": [
    "def initialize_parameters(layer_dims):\n",
    "    # We are using HE initialization\n",
    "    parameters = {}\n",
    "    L = len(layer_dims)\n",
    "    \n",
    "    np.random.seed(1)\n",
    "    \n",
    "    for l in range(1, L):\n",
    "        parameters[\"W\"+str(l)] = np.random.randn(layer_dims[l], layer_dims[l-1]) / np.sqrt(layer_dims[l-1])\n",
    "        #parameters[\"W\"+str(l)] = np.random.randn(layer_dims[l], layer_dims[l-1]) *np.sqrt(2/(layer_dims[l-1]+layer_dims[l]))\n",
    "        #parameters[\"W\"+str(l)] = np.random.randn(layer_dims[l], layer_dims[l-1]) * 0.0001\n",
    "        parameters[\"b\"+str(l)] = np.zeros((layer_dims[l], 1))\n",
    "        print(\"W\"+str(l)+\" is of shape:\", )\n",
    "    return parameters\n",
    "\n",
    "def initialize_adam_parameters(parameters):\n",
    "\tL = len(parameters) // 2\n",
    "\tv = {}\n",
    "\ts = {}\n",
    "\n",
    "\tfor l in range(L):\n",
    "\t\tv[\"W\"+str(l+1)] = np.zeros(( parameters[\"W\"+str(l+1)].shape[0], parameters[\"W\"+str(l+1)].shape[1]))\n",
    "\t\tv[\"b\"+str(l+1)] = np.zeros(( parameters[\"b\"+str(l+1)].shape[0], parameters[\"b\"+str(l+1)].shape[1]))\n",
    "\t\ts[\"W\"+str(l+1)] = np.zeros(( parameters[\"W\"+str(l+1)].shape[0], parameters[\"W\"+str(l+1)].shape[1]))\n",
    "\t\ts[\"b\"+str(l+1)] = np.zeros(( parameters[\"b\"+str(l+1)].shape[0], parameters[\"b\"+str(l+1)].shape[1]))\n",
    "\n",
    "\treturn v, s"
   ]
  },
  {
   "cell_type": "markdown",
   "metadata": {},
   "source": [
    "## Forward Propagation"
   ]
  },
  {
   "cell_type": "code",
   "execution_count": 7,
   "metadata": {},
   "outputs": [],
   "source": [
    "def linear_activation_forward(A_prev, W, b, activation=\"relu\"):\n",
    "    \n",
    "    Z, linear_cache = np.dot(W, A_prev) + b, (A_prev, W, b)\n",
    "    \n",
    "    if activation==\"relu\":\n",
    "        A, activation_cache = np.maximum(0, Z), np.maximum(0, Z)\n",
    "        \n",
    "    if activation==\"softmax\":\n",
    "        expZ = np.exp(Z)\n",
    "        A, activation_cache = expZ / np.sum(expZ, axis=0), expZ / np.sum(expZ, axis=0)\n",
    "        \n",
    "    if activation==\"sigmoid\":\n",
    "        A, activation_cache = 1 / (1 + np.exp(-Z)), 1 / (1 + np.exp(-Z))\n",
    "        \n",
    "    cache = (linear_cache, Z)\n",
    "    \n",
    "    return A, cache"
   ]
  },
  {
   "cell_type": "code",
   "execution_count": 8,
   "metadata": {},
   "outputs": [],
   "source": [
    "def forward_propagation(X, parameters):\n",
    "    L = len(parameters) // 2\n",
    "    A = X\n",
    "    caches = []\n",
    "    \n",
    "    for l in range(1, L):\n",
    "        A_prev = A\n",
    "        W, b = parameters[\"W\"+str(l)], parameters[\"b\"+str(l)]\n",
    "        A, cache = linear_activation_forward(A_prev, W, b, \"sigmoid\")\n",
    "        caches.append(cache)\n",
    "        \n",
    "    W, b = parameters[\"W\"+str(L)], parameters[\"b\"+str(L)]\n",
    "    AL, cache = linear_activation_forward(A, W, b, activation=\"softmax\")\n",
    "    caches.append(cache)\n",
    "    \n",
    "    return AL, caches"
   ]
  },
  {
   "cell_type": "markdown",
   "metadata": {},
   "source": [
    "## Compute Cost"
   ]
  },
  {
   "cell_type": "code",
   "execution_count": 9,
   "metadata": {},
   "outputs": [
    {
     "data": {
      "text/plain": [
       "1.072958576622734"
      ]
     },
     "execution_count": 9,
     "metadata": {},
     "output_type": "execute_result"
    }
   ],
   "source": [
    "def compute_cost(AL, Y):\n",
    "    J = np.mean( - np.sum( Y * np.log(AL + 1e-8), axis=0 ) )\n",
    "    return J\n",
    "\n",
    "Y_hat = np.array([ [.4, 0.2, 0.3], [0.3, 0.1, 0.2], [0.3, 0.7, .5] ])\n",
    "Y = np.array([ [1., 1., 0.], [0., 0., 0.], [0., 0., 1.] ])\n",
    "compute_cost(Y_hat, Y)"
   ]
  },
  {
   "cell_type": "markdown",
   "metadata": {},
   "source": [
    "## Backward Propagation\n",
    "### a-Derivatives\n",
    "#### RELU"
   ]
  },
  {
   "cell_type": "code",
   "execution_count": 10,
   "metadata": {},
   "outputs": [],
   "source": [
    "def relu_backward(dA, cache):\n",
    "    Z = cache\n",
    "    dZ = np.array(dA, copy=True)\n",
    "    dZ[Z <= 0] = 0\n",
    "    return dZ"
   ]
  },
  {
   "cell_type": "markdown",
   "metadata": {},
   "source": [
    "#### Sigmoid"
   ]
  },
  {
   "cell_type": "code",
   "execution_count": 11,
   "metadata": {},
   "outputs": [],
   "source": [
    "def sigmoid_backward(dA, cache):\n",
    "    Z = cache\n",
    "    s = 1/(1+np.exp(-Z))\n",
    "    dZ = dA * s * (1-s)\n",
    "\n",
    "    return dZ"
   ]
  },
  {
   "cell_type": "markdown",
   "metadata": {},
   "source": [
    "#### Softmax"
   ]
  },
  {
   "cell_type": "code",
   "execution_count": 12,
   "metadata": {},
   "outputs": [],
   "source": [
    "def softmax_backward(A, Y):\n",
    "    return A - Y"
   ]
  },
  {
   "cell_type": "markdown",
   "metadata": {},
   "source": [
    "### b-Backward Implementation"
   ]
  },
  {
   "cell_type": "code",
   "execution_count": 13,
   "metadata": {},
   "outputs": [],
   "source": [
    "def linear_backward(dZ, cache):\n",
    "    \n",
    "    A_prev, W, b = cache\n",
    "    m = A_prev.shape[1]\n",
    "    \n",
    "    dW = np.dot(dZ, A_prev.T) / m\n",
    "    db = np.mean(dZ, axis=1, keepdims=True)\n",
    "    dA_prev = np.dot(W.T, dZ)\n",
    "    \n",
    "    return dA_prev, dW, db"
   ]
  },
  {
   "cell_type": "code",
   "execution_count": 14,
   "metadata": {},
   "outputs": [],
   "source": [
    "def linear_activation_backward(dA, cache, activation=\"relu\"):\n",
    "    \n",
    "    linear_cache, activation_cache = cache\n",
    "    \n",
    "    if activation==\"relu\":\n",
    "        dZ = relu_backward(dA, activation_cache)\n",
    "    if activation==\"sigmoid\":\n",
    "        dZ = sigmoid_backward(dA, activation_cache)\n",
    "    \n",
    "    return linear_backward(dZ, linear_cache)\n",
    "\n",
    "def linear_activation_backward_softmax(AL, Y, cache):\n",
    "    linear_cache, activation_cache = cache\n",
    "    dZ = softmax_backward(AL, Y)\n",
    "    return linear_backward(dZ + 1e-8, linear_cache)"
   ]
  },
  {
   "cell_type": "code",
   "execution_count": 15,
   "metadata": {},
   "outputs": [],
   "source": [
    "def backward_propagation(AL, Y, caches):\n",
    "    \n",
    "    derivatives = {}\n",
    "    L = len(caches)\n",
    "    m = AL.shape[1]\n",
    "    Y = Y.reshape(AL.shape)\n",
    "    cache = caches[L-1]\n",
    "    (derivatives[\"dA\" + str(L-1)], derivatives[\"dW\" + str(L)], \n",
    "     derivatives[\"db\" + str(L)]) = linear_activation_backward_softmax(AL, Y, cache)\n",
    "    \n",
    "    for l in reversed(range(L-1)):\n",
    "        cache = caches[l]\n",
    "        (derivatives[\"dA\" + str(l)], derivatives[\"dW\" + str(l+1)],\n",
    "         derivatives[\"db\" + str(l+1)]) = linear_activation_backward(derivatives[\"dA\" + str(l+1)], cache, \"sigmoid\")\n",
    "    \n",
    "    return derivatives"
   ]
  },
  {
   "cell_type": "markdown",
   "metadata": {},
   "source": [
    "## Update Parameters"
   ]
  },
  {
   "cell_type": "code",
   "execution_count": 68,
   "metadata": {},
   "outputs": [],
   "source": [
    "def update_parameters(parameters, derivatives, learning_rate):\n",
    "    \n",
    "    L = len(parameters) // 2 # Here we get the number of layers\n",
    "    \n",
    "    for l in range(L):\n",
    "        parameters[\"W\"+str(l+1)] -= learning_rate * derivatives[\"dW\"+str(l+1)]\n",
    "        parameters[\"b\"+str(l+1)] -= learning_rate * derivatives[\"db\"+str(l+1)]\n",
    "        \n",
    "    return parameters\n",
    "\n",
    "def update_parameters_with_adams(parameters, derivatives, v, s, t, learning_rate, beta1=0.9,\n",
    "                                 beta2=0.999, epsilon=1e-8):\n",
    "    \n",
    "    L = len(parameters) // 2\n",
    "    \n",
    "    \n",
    "    s_corrected = {}\n",
    "    v_corrected = {}\n",
    "\n",
    "    for l in range(L):\n",
    "        v[\"W\"+str(l+1)] = beta1 * v[\"W\"+str(l+1)] + (1 - beta1) * derivatives[\"dW\"+str(l+1)]\n",
    "        v[\"b\"+str(l+1)] = beta1 * v[\"b\"+str(l+1)] + (1 - beta1) * derivatives[\"db\"+str(l+1)]\n",
    "        s[\"W\"+str(l+1)] = beta2 * s[\"W\"+str(l+1)] + (1 -beta2) * (derivatives[\"dW\"+str(l+1)] ** 2)\n",
    "        s[\"b\"+str(l+1)] = beta2 * s[\"b\"+str(l+1)] + (1 -beta2) * (derivatives[\"db\"+str(l+1)] ** 2)\n",
    "        v_corrected[\"W\"+str(l+1)] = v[\"W\"+str(l+1)] / (1 - beta1 ** t)\n",
    "        v_corrected[\"b\"+str(l+1)] = v[\"b\"+str(l+1)] / (1 - beta1 ** t)\n",
    "        s_corrected[\"W\"+str(l+1)] = s[\"W\"+str(l+1)] / (1 - beta2 ** t)\n",
    "        s_corrected[\"b\"+str(l+1)] = s[\"b\"+str(l+1)] / (1 - beta2 ** t)\n",
    "        parameters[\"W\"+str(l+1)] -= learning_rate * v_corrected[\"W\"+str(l+1)] / (np.sqrt(s_corrected[\"W\"+str(l+1)]) + epsilon)\n",
    "        parameters[\"b\"+str(l+1)] -= learning_rate * v_corrected[\"b\"+str(l+1)] / (np.sqrt(s_corrected[\"b\"+str(l+1)]) + epsilon)\n",
    "\n",
    "    return parameters, v, s\n"
   ]
  },
  {
   "cell_type": "markdown",
   "metadata": {},
   "source": [
    "## Build the L-layers NN "
   ]
  },
  {
   "cell_type": "code",
   "execution_count": 65,
   "metadata": {},
   "outputs": [],
   "source": [
    "def nn_model(X, Y, learning_rate=0.01, layer_dims=[28*28,40,10], num_iteration=2500, optim=\"none\"):\n",
    "\n",
    "    parameters = initialize_parameters(layer_dims)\n",
    "    if optim==\"adam\":\n",
    "        v, s = initialize_adam_parameters(parameters)\n",
    "    for i in range(num_iteration):\n",
    "        #Forward Prop\n",
    "        Z3, caches = forward_propagation(X, parameters)\n",
    "        #Compute the cost\n",
    "        cost = compute_cost(Z3, Y)\n",
    "        #BackProp\n",
    "        derivatives = backward_propagation(Z3, Y, caches)\n",
    "        #Update parameteres\n",
    "        #parameters = update_parameters(parameters, derivatives, learning_rate)\n",
    "        if optim==\"none\":\n",
    "            parameters = update_parameters(parameters, derivatives, learning_rate)\n",
    "        elif optim==\"adam\":\n",
    "            parameters, v, s = update_parameters_with_adams(parameters,derivatives, v, s, i+1, learning_rate)\n",
    "        #Print the cost\n",
    "        if (i+1) % 20 == 0:\n",
    "            print(\"Cost after\",i+1,\"iteration:\",str(cost),\"learning Rate:\",learning_rate)\n",
    "        if cost <= 0.02: break\n",
    "        \n",
    "    return parameters"
   ]
  },
  {
   "cell_type": "markdown",
   "metadata": {},
   "source": [
    "## Make predictions "
   ]
  },
  {
   "cell_type": "code",
   "execution_count": 93,
   "metadata": {},
   "outputs": [],
   "source": [
    "def predict(X, Y, parameters):\n",
    "    Z3, cache = forward_propagation(X, parameters)\n",
    "    Y_hat = np.argmax(Z3, axis=0)\n",
    "    Y = np.argmax(Y, axis=0)\n",
    "    accuracy = (Y_hat == Y).astype(int).mean()\n",
    "    return Y, accuracy*100"
   ]
  },
  {
   "cell_type": "code",
   "execution_count": 69,
   "metadata": {},
   "outputs": [
    {
     "name": "stdout",
     "output_type": "stream",
     "text": [
      "Cost after 20 iteration: 0.7615331606766922 learning Rate: 0.01\n",
      "Cost after 40 iteration: 0.4055600416408738 learning Rate: 0.01\n",
      "Cost after 60 iteration: 0.3079745633099882 learning Rate: 0.01\n",
      "Cost after 80 iteration: 0.2615781834047755 learning Rate: 0.01\n",
      "Cost after 100 iteration: 0.2318390125476648 learning Rate: 0.01\n",
      "Cost after 120 iteration: 0.20971538775696158 learning Rate: 0.01\n",
      "Cost after 140 iteration: 0.19204098526079316 learning Rate: 0.01\n",
      "Cost after 160 iteration: 0.17724764560997852 learning Rate: 0.01\n",
      "Cost after 180 iteration: 0.16448437907565003 learning Rate: 0.01\n",
      "Cost after 200 iteration: 0.1532413676356924 learning Rate: 0.01\n",
      "Cost after 220 iteration: 0.14317342061937335 learning Rate: 0.01\n",
      "Cost after 240 iteration: 0.1340582477132877 learning Rate: 0.01\n",
      "Cost after 260 iteration: 0.1258067392968187 learning Rate: 0.01\n",
      "Cost after 280 iteration: 0.11833840232341829 learning Rate: 0.01\n",
      "Cost after 300 iteration: 0.11152653614498495 learning Rate: 0.01\n",
      "Cost after 320 iteration: 0.10528143338090805 learning Rate: 0.01\n",
      "Cost after 340 iteration: 0.09957536135082215 learning Rate: 0.01\n",
      "Cost after 360 iteration: 0.09434263788695314 learning Rate: 0.01\n",
      "Cost after 380 iteration: 0.08951602969446718 learning Rate: 0.01\n",
      "Cost after 400 iteration: 0.0850408917378252 learning Rate: 0.01\n",
      "Cost after 420 iteration: 0.08087885275831067 learning Rate: 0.01\n",
      "Cost after 440 iteration: 0.077000825717703 learning Rate: 0.01\n",
      "Cost after 460 iteration: 0.07337648717911097 learning Rate: 0.01\n",
      "Cost after 480 iteration: 0.0699800471265045 learning Rate: 0.01\n",
      "Cost after 500 iteration: 0.06679397630080156 learning Rate: 0.01\n",
      "Cost after 520 iteration: 0.06379638826349478 learning Rate: 0.01\n",
      "Cost after 540 iteration: 0.06096882666551952 learning Rate: 0.01\n",
      "Cost after 560 iteration: 0.05829846045876013 learning Rate: 0.01\n",
      "Cost after 580 iteration: 0.05577732448347877 learning Rate: 0.01\n",
      "Cost after 600 iteration: 0.05339681391748709 learning Rate: 0.01\n",
      "Cost after 620 iteration: 0.051145929106274926 learning Rate: 0.01\n",
      "Cost after 640 iteration: 0.0490116881381781 learning Rate: 0.01\n",
      "Cost after 660 iteration: 0.04699124434729112 learning Rate: 0.01\n",
      "Cost after 680 iteration: 0.04507528984972602 learning Rate: 0.01\n",
      "Cost after 700 iteration: 0.04325314468258895 learning Rate: 0.01\n",
      "Cost after 720 iteration: 0.041516117139475436 learning Rate: 0.01\n",
      "Cost after 740 iteration: 0.039856850664581056 learning Rate: 0.01\n",
      "Cost after 760 iteration: 0.03826897796401257 learning Rate: 0.01\n",
      "Cost after 780 iteration: 0.036746053134047336 learning Rate: 0.01\n",
      "Cost after 800 iteration: 0.035282869652652156 learning Rate: 0.01\n",
      "Cost after 820 iteration: 0.03388395345526603 learning Rate: 0.01\n",
      "Cost after 840 iteration: 0.03254812275015204 learning Rate: 0.01\n",
      "Cost after 860 iteration: 0.03127072827224736 learning Rate: 0.01\n",
      "Cost after 880 iteration: 0.03004808919065638 learning Rate: 0.01\n",
      "Cost after 900 iteration: 0.028877337081352178 learning Rate: 0.01\n",
      "Cost after 920 iteration: 0.027756427588757963 learning Rate: 0.01\n",
      "Cost after 940 iteration: 0.026683014382417027 learning Rate: 0.01\n",
      "Cost after 960 iteration: 0.025655765008266614 learning Rate: 0.01\n",
      "Cost after 980 iteration: 0.024677653035786423 learning Rate: 0.01\n",
      "Cost after 1000 iteration: 0.02374926566252125 learning Rate: 0.01\n",
      "Cost after 1020 iteration: 0.022865202650371435 learning Rate: 0.01\n",
      "Cost after 1040 iteration: 0.022020943124653993 learning Rate: 0.01\n",
      "Cost after 1060 iteration: 0.021212934366002332 learning Rate: 0.01\n",
      "Cost after 1080 iteration: 0.020437998542774484 learning Rate: 0.01\n"
     ]
    }
   ],
   "source": [
    "parameters = nn_model(x_train, y_train, learning_rate=0.01, layer_dims=[28*28,40,10], optim=\"adam\")"
   ]
  },
  {
   "cell_type": "code",
   "execution_count": 94,
   "metadata": {},
   "outputs": [
    {
     "name": "stdout",
     "output_type": "stream",
     "text": [
      "Training accuracy= 99.80333333333333 %\n",
      "Test accuracy= 96.6 %\n"
     ]
    }
   ],
   "source": [
    "Y, train_accuracy = predict(x_train, y_train, parameters)\n",
    "Y, test_accuracy = predict(x_test, y_test, parameters)\n",
    "print(\"Training accuracy=\",train_accuracy,\"%\")\n",
    "print(\"Test accuracy=\",test_accuracy,\"%\")"
   ]
  },
  {
   "cell_type": "code",
   "execution_count": null,
   "metadata": {},
   "outputs": [],
   "source": []
  }
 ],
 "metadata": {
  "kernelspec": {
   "display_name": "Python 3",
   "language": "python",
   "name": "python3"
  },
  "language_info": {
   "codemirror_mode": {
    "name": "ipython",
    "version": 3
   },
   "file_extension": ".py",
   "mimetype": "text/x-python",
   "name": "python",
   "nbconvert_exporter": "python",
   "pygments_lexer": "ipython3",
   "version": "3.5.2"
  }
 },
 "nbformat": 4,
 "nbformat_minor": 4
}
